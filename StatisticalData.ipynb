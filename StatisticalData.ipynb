{
 "cells": [
  {
   "cell_type": "code",
   "execution_count": 27,
   "metadata": {},
   "outputs": [],
   "source": [
    "import seaborn as sns\n",
    "import pandas as pd\n",
    "import numpy as np\n",
    "import scipy.stats as stats\n",
    "from scipy.stats import shapiro\n",
    "import warnings\n",
    "warnings.filterwarnings('ignore')"
   ]
  },
  {
   "cell_type": "code",
   "execution_count": 3,
   "metadata": {},
   "outputs": [],
   "source": [
    "ToplamHucreSayisi = pd.DataFrame([4075000,5075000,4000000,5700000,550000,6250000], columns = [\"ToplamHucreSayisi\"])"
   ]
  },
  {
   "cell_type": "code",
   "execution_count": 4,
   "metadata": {},
   "outputs": [],
   "source": [
    "ToplamCanliHucreSayisi = pd.DataFrame([4025000,5025000,3900000,5700000,550000,6250000], columns = [\"ToplamCanliHucreSayisi\"])"
   ]
  },
  {
   "cell_type": "code",
   "execution_count": 5,
   "metadata": {},
   "outputs": [],
   "source": [
    "ToplamOluHucreSayisi = pd.DataFrame([50000,50000,100000,0,0,0], columns = [\"ToplamOluHucreSayisi\"])"
   ]
  },
  {
   "cell_type": "code",
   "execution_count": 6,
   "metadata": {},
   "outputs": [],
   "source": [
    "HucreCanliligi = pd.DataFrame([98.77300613,97.5,0,99.01477833,100,100], columns = [\"HucreCanliligiYuzdesi\"])"
   ]
  },
  {
   "cell_type": "code",
   "execution_count": 7,
   "metadata": {},
   "outputs": [],
   "source": [
    "Dakika = pd.DataFrame([\"3dk\",\"3dk\",\"3dk\",\"10dk\",\"10dk\",\"10dk\"], columns = [\"Dakika\"])"
   ]
  },
  {
   "cell_type": "code",
   "execution_count": 8,
   "metadata": {},
   "outputs": [],
   "source": [
    "mles = pd.DataFrame([\"ml2\",\"ml4\",\"ml6\",\"ml2\",\"ml4\",\"ml6\"] , columns = [\"Mles\"])"
   ]
  },
  {
   "cell_type": "code",
   "execution_count": 9,
   "metadata": {},
   "outputs": [],
   "source": [
    "df = pd.concat([ToplamHucreSayisi,ToplamCanliHucreSayisi,ToplamOluHucreSayisi,HucreCanliligi,Dakika,mles] , axis = 1)"
   ]
  },
  {
   "cell_type": "code",
   "execution_count": 10,
   "metadata": {},
   "outputs": [
    {
     "data": {
      "text/html": [
       "<div>\n",
       "<style scoped>\n",
       "    .dataframe tbody tr th:only-of-type {\n",
       "        vertical-align: middle;\n",
       "    }\n",
       "\n",
       "    .dataframe tbody tr th {\n",
       "        vertical-align: top;\n",
       "    }\n",
       "\n",
       "    .dataframe thead th {\n",
       "        text-align: right;\n",
       "    }\n",
       "</style>\n",
       "<table border=\"1\" class=\"dataframe\">\n",
       "  <thead>\n",
       "    <tr style=\"text-align: right;\">\n",
       "      <th></th>\n",
       "      <th>ToplamHucreSayisi</th>\n",
       "      <th>ToplamCanliHucreSayisi</th>\n",
       "      <th>ToplamOluHucreSayisi</th>\n",
       "      <th>HucreCanliligiYuzdesi</th>\n",
       "      <th>Dakika</th>\n",
       "      <th>Mles</th>\n",
       "    </tr>\n",
       "  </thead>\n",
       "  <tbody>\n",
       "    <tr>\n",
       "      <th>0</th>\n",
       "      <td>4075000</td>\n",
       "      <td>4025000</td>\n",
       "      <td>50000</td>\n",
       "      <td>98.773006</td>\n",
       "      <td>3dk</td>\n",
       "      <td>ml2</td>\n",
       "    </tr>\n",
       "    <tr>\n",
       "      <th>1</th>\n",
       "      <td>5075000</td>\n",
       "      <td>5025000</td>\n",
       "      <td>50000</td>\n",
       "      <td>97.500000</td>\n",
       "      <td>3dk</td>\n",
       "      <td>ml4</td>\n",
       "    </tr>\n",
       "    <tr>\n",
       "      <th>2</th>\n",
       "      <td>4000000</td>\n",
       "      <td>3900000</td>\n",
       "      <td>100000</td>\n",
       "      <td>0.000000</td>\n",
       "      <td>3dk</td>\n",
       "      <td>ml6</td>\n",
       "    </tr>\n",
       "    <tr>\n",
       "      <th>3</th>\n",
       "      <td>5700000</td>\n",
       "      <td>5700000</td>\n",
       "      <td>0</td>\n",
       "      <td>99.014778</td>\n",
       "      <td>10dk</td>\n",
       "      <td>ml2</td>\n",
       "    </tr>\n",
       "    <tr>\n",
       "      <th>4</th>\n",
       "      <td>550000</td>\n",
       "      <td>550000</td>\n",
       "      <td>0</td>\n",
       "      <td>100.000000</td>\n",
       "      <td>10dk</td>\n",
       "      <td>ml4</td>\n",
       "    </tr>\n",
       "    <tr>\n",
       "      <th>5</th>\n",
       "      <td>6250000</td>\n",
       "      <td>6250000</td>\n",
       "      <td>0</td>\n",
       "      <td>100.000000</td>\n",
       "      <td>10dk</td>\n",
       "      <td>ml6</td>\n",
       "    </tr>\n",
       "  </tbody>\n",
       "</table>\n",
       "</div>"
      ],
      "text/plain": [
       "   ToplamHucreSayisi  ToplamCanliHucreSayisi  ToplamOluHucreSayisi  \\\n",
       "0            4075000                 4025000                 50000   \n",
       "1            5075000                 5025000                 50000   \n",
       "2            4000000                 3900000                100000   \n",
       "3            5700000                 5700000                     0   \n",
       "4             550000                  550000                     0   \n",
       "5            6250000                 6250000                     0   \n",
       "\n",
       "   HucreCanliligiYuzdesi Dakika Mles  \n",
       "0              98.773006    3dk  ml2  \n",
       "1              97.500000    3dk  ml4  \n",
       "2               0.000000    3dk  ml6  \n",
       "3              99.014778   10dk  ml2  \n",
       "4             100.000000   10dk  ml4  \n",
       "5             100.000000   10dk  ml6  "
      ]
     },
     "execution_count": 10,
     "metadata": {},
     "output_type": "execute_result"
    }
   ],
   "source": [
    "df"
   ]
  },
  {
   "cell_type": "code",
   "execution_count": 11,
   "metadata": {},
   "outputs": [
    {
     "data": {
      "text/plain": [
       "ToplamHucreSayisi           int64\n",
       "ToplamCanliHucreSayisi      int64\n",
       "ToplamOluHucreSayisi        int64\n",
       "HucreCanliligiYuzdesi     float64\n",
       "Dakika                     object\n",
       "Mles                       object\n",
       "dtype: object"
      ]
     },
     "execution_count": 11,
     "metadata": {},
     "output_type": "execute_result"
    }
   ],
   "source": [
    "df.dtypes"
   ]
  },
  {
   "cell_type": "code",
   "execution_count": 12,
   "metadata": {},
   "outputs": [
    {
     "data": {
      "image/png": "[encoded data removed]",
      "text/plain": [
       "<Figure size 774.875x720 with 20 Axes>"
      ]
     },
     "metadata": {
      "needs_background": "light"
     },
     "output_type": "display_data"
    }
   ],
   "source": [
    "sns.pairplot(df, hue = \"Mles\", markers = [\"o\",\"X\",\"D\"]);"
   ]
  },
  {
   "cell_type": "code",
   "execution_count": 13,
   "metadata": {},
   "outputs": [
    {
     "data": {
      "image/png": "[encoded data removed]",
      "text/plain": [
       "<Figure size 432x288 with 1 Axes>"
      ]
     },
     "metadata": {
      "needs_background": "light"
     },
     "output_type": "display_data"
    }
   ],
   "source": [
    "sns.boxplot(x = \"Dakika\", y = \"ToplamCanliHucreSayisi\", data = df);"
   ]
  },
  {
   "cell_type": "markdown",
   "metadata": {},
   "source": [
    "## Normal Dağılım Varsayımı  - Shapiro-Wilks Test"
   ]
  },
  {
   "cell_type": "code",
   "execution_count": 14,
   "metadata": {},
   "outputs": [
    {
     "name": "stdout",
     "output_type": "stream",
     "text": [
      "T Test İstatistiği: 0.8703359961509705\n",
      "Hesaplanan P-value: 0.22754767537117004\n"
     ]
    }
   ],
   "source": [
    "print(\"T Test İstatistiği: \" + str(shapiro(ToplamHucreSayisi)[0]))\n",
    "print(\"Hesaplanan P-value: \" + str(shapiro(ToplamHucreSayisi)[1]))"
   ]
  },
  {
   "cell_type": "code",
   "execution_count": 15,
   "metadata": {},
   "outputs": [
    {
     "name": "stdout",
     "output_type": "stream",
     "text": [
      "T Test İstatistiği: 0.8817814588546753\n",
      "Hesaplanan P-value: 0.2773382365703583\n"
     ]
    }
   ],
   "source": [
    "print(\"T Test İstatistiği: \" + str(shapiro(ToplamCanliHucreSayisi)[0]))\n",
    "print(\"Hesaplanan P-value: \" + str(shapiro(ToplamCanliHucreSayisi)[1]))"
   ]
  },
  {
   "cell_type": "code",
   "execution_count": 16,
   "metadata": {},
   "outputs": [
    {
     "name": "stdout",
     "output_type": "stream",
     "text": [
      "T Test İstatistiği: 0.8216156959533691\n",
      "Hesaplanan P-value: 0.09113527834415436\n"
     ]
    }
   ],
   "source": [
    "print(\"T Test İstatistiği: \" + str(shapiro(ToplamOluHucreSayisi)[0]))\n",
    "print(\"Hesaplanan P-value: \" + str(shapiro(ToplamOluHucreSayisi)[1]))"
   ]
  },
  {
   "cell_type": "markdown",
   "metadata": {},
   "source": [
    "#### H0 : Örnek dağılım ile teorik normal dağılım arasında istatistiki olarak anlamlı bir farklılık yoktur.\n",
    "#### H1 : Örnek dağılım ile teorik normal dağılım arasında istatistiki olarak anlamlı bir farklılık vardır.\n",
    "\n",
    "\n",
    "\n",
    "##### 0.22754767537117004 > 0.05\n",
    "##### 0.2773382365703583  > 0.05\n",
    "##### 0.09113527834415436  > 0.05   \n",
    "\n",
    "#### KARAR :  H0 Hipotezi reddedilemez yani ToplamHucreSayisi,ToplamCanliHucreSayisi,ToplamOluHucreSayisi değişkenleri normal dağılmıştır."
   ]
  },
  {
   "cell_type": "markdown",
   "metadata": {},
   "source": [
    "## Varyans Homojenliği Varsayımı : Levene Test"
   ]
  },
  {
   "cell_type": "code",
   "execution_count": 17,
   "metadata": {},
   "outputs": [
    {
     "data": {
      "text/plain": [
       "LeveneResult(statistic=2.998506098240764, pvalue=0.08026074546526414)"
      ]
     },
     "execution_count": 17,
     "metadata": {},
     "output_type": "execute_result"
    }
   ],
   "source": [
    "stats.levene(df.ToplamHucreSayisi , df.ToplamHucreSayisi , df.ToplamOluHucreSayisi)"
   ]
  },
  {
   "cell_type": "markdown",
   "metadata": {},
   "source": [
    "#### HO : Varyanslar homojendir.\n",
    "#### H1 : Varyanslar homojen değildir.\n",
    "\n",
    "#### KARAR : 0.08026074546526414 > 0.05 olduğundan H0 Hipotezi reddedilemez. Yani varyans homojenliği varsayımı sağlanmaktadır."
   ]
  },
  {
   "cell_type": "code",
   "execution_count": null,
   "metadata": {},
   "outputs": [],
   "source": []
  },
  {
   "cell_type": "markdown",
   "metadata": {},
   "source": [
    "## HIPOTEZ TESTI : BAĞIMSIZ 2 ÖRNEKLEM T TESTİ"
   ]
  },
  {
   "cell_type": "code",
   "execution_count": 18,
   "metadata": {},
   "outputs": [
    {
     "data": {
      "text/html": [
       "<div>\n",
       "<style scoped>\n",
       "    .dataframe tbody tr th:only-of-type {\n",
       "        vertical-align: middle;\n",
       "    }\n",
       "\n",
       "    .dataframe tbody tr th {\n",
       "        vertical-align: top;\n",
       "    }\n",
       "\n",
       "    .dataframe thead th {\n",
       "        text-align: right;\n",
       "    }\n",
       "</style>\n",
       "<table border=\"1\" class=\"dataframe\">\n",
       "  <thead>\n",
       "    <tr style=\"text-align: right;\">\n",
       "      <th></th>\n",
       "      <th>ToplamHucreSayisi</th>\n",
       "      <th>ToplamCanliHucreSayisi</th>\n",
       "      <th>ToplamOluHucreSayisi</th>\n",
       "      <th>HucreCanliligiYuzdesi</th>\n",
       "      <th>Dakika</th>\n",
       "      <th>Mles</th>\n",
       "    </tr>\n",
       "  </thead>\n",
       "  <tbody>\n",
       "    <tr>\n",
       "      <th>0</th>\n",
       "      <td>4075000</td>\n",
       "      <td>4025000</td>\n",
       "      <td>50000</td>\n",
       "      <td>98.773006</td>\n",
       "      <td>3dk</td>\n",
       "      <td>ml2</td>\n",
       "    </tr>\n",
       "    <tr>\n",
       "      <th>1</th>\n",
       "      <td>5075000</td>\n",
       "      <td>5025000</td>\n",
       "      <td>50000</td>\n",
       "      <td>97.500000</td>\n",
       "      <td>3dk</td>\n",
       "      <td>ml4</td>\n",
       "    </tr>\n",
       "    <tr>\n",
       "      <th>2</th>\n",
       "      <td>4000000</td>\n",
       "      <td>3900000</td>\n",
       "      <td>100000</td>\n",
       "      <td>0.000000</td>\n",
       "      <td>3dk</td>\n",
       "      <td>ml6</td>\n",
       "    </tr>\n",
       "    <tr>\n",
       "      <th>3</th>\n",
       "      <td>5700000</td>\n",
       "      <td>5700000</td>\n",
       "      <td>0</td>\n",
       "      <td>99.014778</td>\n",
       "      <td>10dk</td>\n",
       "      <td>ml2</td>\n",
       "    </tr>\n",
       "    <tr>\n",
       "      <th>4</th>\n",
       "      <td>550000</td>\n",
       "      <td>550000</td>\n",
       "      <td>0</td>\n",
       "      <td>100.000000</td>\n",
       "      <td>10dk</td>\n",
       "      <td>ml4</td>\n",
       "    </tr>\n",
       "    <tr>\n",
       "      <th>5</th>\n",
       "      <td>6250000</td>\n",
       "      <td>6250000</td>\n",
       "      <td>0</td>\n",
       "      <td>100.000000</td>\n",
       "      <td>10dk</td>\n",
       "      <td>ml6</td>\n",
       "    </tr>\n",
       "  </tbody>\n",
       "</table>\n",
       "</div>"
      ],
      "text/plain": [
       "   ToplamHucreSayisi  ToplamCanliHucreSayisi  ToplamOluHucreSayisi  \\\n",
       "0            4075000                 4025000                 50000   \n",
       "1            5075000                 5025000                 50000   \n",
       "2            4000000                 3900000                100000   \n",
       "3            5700000                 5700000                     0   \n",
       "4             550000                  550000                     0   \n",
       "5            6250000                 6250000                     0   \n",
       "\n",
       "   HucreCanliligiYuzdesi Dakika Mles  \n",
       "0              98.773006    3dk  ml2  \n",
       "1              97.500000    3dk  ml4  \n",
       "2               0.000000    3dk  ml6  \n",
       "3              99.014778   10dk  ml2  \n",
       "4             100.000000   10dk  ml4  \n",
       "5             100.000000   10dk  ml6  "
      ]
     },
     "execution_count": 18,
     "metadata": {},
     "output_type": "execute_result"
    }
   ],
   "source": [
    "df"
   ]
  },
  {
   "cell_type": "code",
   "execution_count": 24,
   "metadata": {},
   "outputs": [],
   "source": [
    "A = pd.DataFrame([4075000,5075000,4000000])"
   ]
  },
  {
   "cell_type": "code",
   "execution_count": 25,
   "metadata": {},
   "outputs": [],
   "source": [
    "B = pd.DataFrame([5700000,550000,6250000])"
   ]
  },
  {
   "cell_type": "code",
   "execution_count": 28,
   "metadata": {},
   "outputs": [],
   "source": [
    "DK3 = np.arange(len(A))\n",
    "DK3 = pd.DataFrame(DK3)\n",
    "DK3[:] = \"3DK\"\n",
    "A = pd.concat([A, DK3], axis = 1)"
   ]
  },
  {
   "cell_type": "code",
   "execution_count": 30,
   "metadata": {},
   "outputs": [],
   "source": [
    "DK10 = np.arange(len(B))\n",
    "DK10 = pd.DataFrame(DK10)\n",
    "DK10[:] = \"10DK\"\n",
    "B = pd.concat([B, DK10], axis = 1)"
   ]
  },
  {
   "cell_type": "code",
   "execution_count": 35,
   "metadata": {},
   "outputs": [
    {
     "data": {
      "text/html": [
       "<div>\n",
       "<style scoped>\n",
       "    .dataframe tbody tr th:only-of-type {\n",
       "        vertical-align: middle;\n",
       "    }\n",
       "\n",
       "    .dataframe tbody tr th {\n",
       "        vertical-align: top;\n",
       "    }\n",
       "\n",
       "    .dataframe thead th {\n",
       "        text-align: right;\n",
       "    }\n",
       "</style>\n",
       "<table border=\"1\" class=\"dataframe\">\n",
       "  <thead>\n",
       "    <tr style=\"text-align: right;\">\n",
       "      <th></th>\n",
       "      <th>ToplamHucreSayisi</th>\n",
       "      <th>Dakika</th>\n",
       "    </tr>\n",
       "  </thead>\n",
       "  <tbody>\n",
       "    <tr>\n",
       "      <th>0</th>\n",
       "      <td>4075000</td>\n",
       "      <td>3DK</td>\n",
       "    </tr>\n",
       "    <tr>\n",
       "      <th>1</th>\n",
       "      <td>5075000</td>\n",
       "      <td>3DK</td>\n",
       "    </tr>\n",
       "    <tr>\n",
       "      <th>2</th>\n",
       "      <td>4000000</td>\n",
       "      <td>3DK</td>\n",
       "    </tr>\n",
       "    <tr>\n",
       "      <th>0</th>\n",
       "      <td>5700000</td>\n",
       "      <td>10DK</td>\n",
       "    </tr>\n",
       "    <tr>\n",
       "      <th>1</th>\n",
       "      <td>550000</td>\n",
       "      <td>10DK</td>\n",
       "    </tr>\n",
       "    <tr>\n",
       "      <th>2</th>\n",
       "      <td>6250000</td>\n",
       "      <td>10DK</td>\n",
       "    </tr>\n",
       "  </tbody>\n",
       "</table>\n",
       "</div>"
      ],
      "text/plain": [
       "   ToplamHucreSayisi Dakika\n",
       "0            4075000    3DK\n",
       "1            5075000    3DK\n",
       "2            4000000    3DK\n",
       "0            5700000   10DK\n",
       "1             550000   10DK\n",
       "2            6250000   10DK"
      ]
     },
     "execution_count": 35,
     "metadata": {},
     "output_type": "execute_result"
    }
   ],
   "source": [
    "AB = pd.concat([A,B])\n",
    "AB.columns = [\"ToplamHucreSayisi\",\"Dakika\"]\n",
    "AB"
   ]
  },
  {
   "cell_type": "code",
   "execution_count": 38,
   "metadata": {},
   "outputs": [
    {
     "data": {
      "text/html": [
       "<div>\n",
       "<style scoped>\n",
       "    .dataframe tbody tr th:only-of-type {\n",
       "        vertical-align: middle;\n",
       "    }\n",
       "\n",
       "    .dataframe tbody tr th {\n",
       "        vertical-align: top;\n",
       "    }\n",
       "\n",
       "    .dataframe thead th {\n",
       "        text-align: right;\n",
       "    }\n",
       "</style>\n",
       "<table border=\"1\" class=\"dataframe\">\n",
       "  <thead>\n",
       "    <tr style=\"text-align: right;\">\n",
       "      <th></th>\n",
       "      <th>Ucdakika</th>\n",
       "      <th>Ondakika</th>\n",
       "    </tr>\n",
       "  </thead>\n",
       "  <tbody>\n",
       "    <tr>\n",
       "      <th>0</th>\n",
       "      <td>4075000</td>\n",
       "      <td>5700000</td>\n",
       "    </tr>\n",
       "    <tr>\n",
       "      <th>1</th>\n",
       "      <td>5075000</td>\n",
       "      <td>550000</td>\n",
       "    </tr>\n",
       "    <tr>\n",
       "      <th>2</th>\n",
       "      <td>4000000</td>\n",
       "      <td>6250000</td>\n",
       "    </tr>\n",
       "  </tbody>\n",
       "</table>\n",
       "</div>"
      ],
      "text/plain": [
       "   Ucdakika  Ondakika\n",
       "0   4075000   5700000\n",
       "1   5075000    550000\n",
       "2   4000000   6250000"
      ]
     },
     "execution_count": 38,
     "metadata": {},
     "output_type": "execute_result"
    }
   ],
   "source": [
    "A = pd.DataFrame([4075000,5075000,4000000])\n",
    "B = pd.DataFrame([5700000,550000,6250000])\n",
    "A_B = pd.concat([A, B], axis = 1)\n",
    "A_B.columns = [\"Ucdakika\",\"Ondakika\"]\n",
    "\n",
    "A_B.head()"
   ]
  },
  {
   "cell_type": "code",
   "execution_count": 39,
   "metadata": {},
   "outputs": [
    {
     "data": {
      "text/plain": [
       "Ttest_indResult(statistic=0.11723969243823402, pvalue=0.912321118731887)"
      ]
     },
     "execution_count": 39,
     "metadata": {},
     "output_type": "execute_result"
    }
   ],
   "source": [
    "stats.ttest_ind(A_B[\"Ucdakika\"], A_B[\"Ondakika\"], equal_var = True)"
   ]
  },
  {
   "cell_type": "code",
   "execution_count": null,
   "metadata": {},
   "outputs": [],
   "source": []
  }
 ],
 "metadata": {
  "kernelspec": {
   "display_name": "Python 3",
   "language": "python",
   "name": "python3"
  },
  "language_info": {
   "codemirror_mode": {
    "name": "ipython",
    "version": 3
   },
   "file_extension": ".py",
   "mimetype": "text/x-python",
   "name": "python",
   "nbconvert_exporter": "python",
   "pygments_lexer": "ipython3",
   "version": "3.8.5"
  }
 },
 "nbformat": 4,
 "nbformat_minor": 4
}
